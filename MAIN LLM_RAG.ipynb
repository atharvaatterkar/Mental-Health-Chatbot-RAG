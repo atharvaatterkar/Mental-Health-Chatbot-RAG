{
  "cells": [
    {
      "cell_type": "code",
      "execution_count": 4,
      "metadata": {
        "colab": {
          "base_uri": "https://localhost:8080/"
        },
        "id": "pYVvzGXfWAFI",
        "outputId": "e6111d25-df64-4edc-ca6a-cd5688064cfe"
      },
      "outputs": [
        {
          "name": "stdout",
          "output_type": "stream",
          "text": [
            "Requirement already satisfied: langsmith in c:\\users\\omen\\anaconda3\\lib\\site-packages (from -r requirements.txt (line 1)) (0.3.45)\n",
            "Collecting langsmith (from -r requirements.txt (line 1))\n",
            "  Using cached langsmith-0.4.1-py3-none-any.whl.metadata (15 kB)\n",
            "Requirement already satisfied: langchain in c:\\users\\omen\\anaconda3\\lib\\site-packages (from -r requirements.txt (line 2)) (0.3.25)\n",
            "Requirement already satisfied: langchain_community in c:\\users\\omen\\anaconda3\\lib\\site-packages (from -r requirements.txt (line 3)) (0.3.25)\n",
            "Requirement already satisfied: langchain_groq in c:\\users\\omen\\anaconda3\\lib\\site-packages (from -r requirements.txt (line 4)) (0.3.2)\n",
            "Requirement already satisfied: groq in c:\\users\\omen\\anaconda3\\lib\\site-packages (from -r requirements.txt (line 5)) (0.28.0)\n",
            "Requirement already satisfied: streamlit in c:\\users\\omen\\anaconda3\\lib\\site-packages (from -r requirements.txt (line 6)) (1.45.1)\n",
            "Requirement already satisfied: langchain_huggingface in c:\\users\\omen\\anaconda3\\lib\\site-packages (from -r requirements.txt (line 7)) (0.3.0)\n",
            "Requirement already satisfied: cassio in c:\\users\\omen\\anaconda3\\lib\\site-packages (from -r requirements.txt (line 8)) (0.1.10)\n",
            "Requirement already satisfied: httpx<1,>=0.23.0 in c:\\users\\omen\\appdata\\roaming\\python\\python312\\site-packages (from langsmith->-r requirements.txt (line 1)) (0.27.2)\n",
            "Requirement already satisfied: orjson<4.0.0,>=3.9.14 in c:\\users\\omen\\anaconda3\\lib\\site-packages (from langsmith->-r requirements.txt (line 1)) (3.10.15)\n",
            "Requirement already satisfied: packaging>=23.2 in c:\\users\\omen\\appdata\\roaming\\python\\python312\\site-packages (from langsmith->-r requirements.txt (line 1)) (23.2)\n",
            "Requirement already satisfied: pydantic<3.0.0,>=2.7.4 in c:\\users\\omen\\anaconda3\\lib\\site-packages (from langsmith->-r requirements.txt (line 1)) (2.11.5)\n",
            "Requirement already satisfied: requests<3,>=2 in c:\\users\\omen\\anaconda3\\lib\\site-packages (from langsmith->-r requirements.txt (line 1)) (2.32.3)\n",
            "Requirement already satisfied: requests-toolbelt<2.0.0,>=1.0.0 in c:\\users\\omen\\anaconda3\\lib\\site-packages (from langsmith->-r requirements.txt (line 1)) (1.0.0)\n",
            "Requirement already satisfied: zstandard<0.24.0,>=0.23.0 in c:\\users\\omen\\anaconda3\\lib\\site-packages (from langsmith->-r requirements.txt (line 1)) (0.23.0)\n",
            "Requirement already satisfied: langchain-core<1.0.0,>=0.3.58 in c:\\users\\omen\\anaconda3\\lib\\site-packages (from langchain->-r requirements.txt (line 2)) (0.3.65)\n",
            "Requirement already satisfied: langchain-text-splitters<1.0.0,>=0.3.8 in c:\\users\\omen\\anaconda3\\lib\\site-packages (from langchain->-r requirements.txt (line 2)) (0.3.8)\n",
            "Requirement already satisfied: SQLAlchemy<3,>=1.4 in c:\\users\\omen\\anaconda3\\lib\\site-packages (from langchain->-r requirements.txt (line 2)) (2.0.34)\n",
            "Requirement already satisfied: PyYAML>=5.3 in c:\\users\\omen\\appdata\\roaming\\python\\python312\\site-packages (from langchain->-r requirements.txt (line 2)) (6.0.1)\n",
            "Requirement already satisfied: aiohttp<4.0.0,>=3.8.3 in c:\\users\\omen\\anaconda3\\lib\\site-packages (from langchain_community->-r requirements.txt (line 3)) (3.11.16)\n",
            "Requirement already satisfied: tenacity!=8.4.0,<10,>=8.1.0 in c:\\users\\omen\\anaconda3\\lib\\site-packages (from langchain_community->-r requirements.txt (line 3)) (8.2.3)\n",
            "Requirement already satisfied: dataclasses-json<0.7,>=0.5.7 in c:\\users\\omen\\anaconda3\\lib\\site-packages (from langchain_community->-r requirements.txt (line 3)) (0.6.7)\n",
            "Requirement already satisfied: pydantic-settings<3.0.0,>=2.4.0 in c:\\users\\omen\\anaconda3\\lib\\site-packages (from langchain_community->-r requirements.txt (line 3)) (2.8.1)\n",
            "Requirement already satisfied: httpx-sse<1.0.0,>=0.4.0 in c:\\users\\omen\\anaconda3\\lib\\site-packages (from langchain_community->-r requirements.txt (line 3)) (0.4.0)\n",
            "Requirement already satisfied: numpy>=1.26.2 in c:\\users\\omen\\anaconda3\\lib\\site-packages (from langchain_community->-r requirements.txt (line 3)) (1.26.2)\n",
            "Requirement already satisfied: anyio<5,>=3.5.0 in c:\\users\\omen\\appdata\\roaming\\python\\python312\\site-packages (from groq->-r requirements.txt (line 5)) (4.2.0)\n",
            "Requirement already satisfied: distro<2,>=1.7.0 in c:\\users\\omen\\anaconda3\\lib\\site-packages (from groq->-r requirements.txt (line 5)) (1.9.0)\n",
            "Requirement already satisfied: sniffio in c:\\users\\omen\\appdata\\roaming\\python\\python312\\site-packages (from groq->-r requirements.txt (line 5)) (1.3.0)\n",
            "Requirement already satisfied: typing-extensions<5,>=4.10 in c:\\users\\omen\\anaconda3\\lib\\site-packages (from groq->-r requirements.txt (line 5)) (4.13.1)\n",
            "Requirement already satisfied: altair<6,>=4.0 in c:\\users\\omen\\anaconda3\\lib\\site-packages (from streamlit->-r requirements.txt (line 6)) (5.0.1)\n",
            "Requirement already satisfied: blinker<2,>=1.5.0 in c:\\users\\omen\\anaconda3\\lib\\site-packages (from streamlit->-r requirements.txt (line 6)) (1.6.2)\n",
            "Requirement already satisfied: cachetools<6,>=4.0 in c:\\users\\omen\\anaconda3\\lib\\site-packages (from streamlit->-r requirements.txt (line 6)) (5.3.3)\n",
            "Requirement already satisfied: click<9,>=7.0 in c:\\users\\omen\\appdata\\roaming\\python\\python312\\site-packages (from streamlit->-r requirements.txt (line 6)) (8.1.7)\n",
            "Requirement already satisfied: pandas<3,>=1.4.0 in c:\\users\\omen\\appdata\\roaming\\python\\python312\\site-packages (from streamlit->-r requirements.txt (line 6)) (2.2.2)\n",
            "Requirement already satisfied: pillow<12,>=7.1.0 in c:\\users\\omen\\appdata\\roaming\\python\\python312\\site-packages (from streamlit->-r requirements.txt (line 6)) (10.2.0)\n",
            "Requirement already satisfied: protobuf<7,>=3.20 in c:\\users\\omen\\anaconda3\\lib\\site-packages (from streamlit->-r requirements.txt (line 6)) (5.29.5)\n",
            "Requirement already satisfied: pyarrow>=7.0 in c:\\users\\omen\\anaconda3\\lib\\site-packages (from streamlit->-r requirements.txt (line 6)) (16.1.0)\n",
            "Requirement already satisfied: toml<2,>=0.10.1 in c:\\users\\omen\\anaconda3\\lib\\site-packages (from streamlit->-r requirements.txt (line 6)) (0.10.2)\n",
            "Requirement already satisfied: watchdog<7,>=2.1.5 in c:\\users\\omen\\anaconda3\\lib\\site-packages (from streamlit->-r requirements.txt (line 6)) (4.0.1)\n",
            "Requirement already satisfied: gitpython!=3.1.19,<4,>=3.0.7 in c:\\users\\omen\\anaconda3\\lib\\site-packages (from streamlit->-r requirements.txt (line 6)) (3.1.43)\n",
            "Requirement already satisfied: pydeck<1,>=0.8.0b4 in c:\\users\\omen\\anaconda3\\lib\\site-packages (from streamlit->-r requirements.txt (line 6)) (0.8.0)\n",
            "Requirement already satisfied: tornado<7,>=6.0.3 in c:\\users\\omen\\appdata\\roaming\\python\\python312\\site-packages (from streamlit->-r requirements.txt (line 6)) (6.4)\n",
            "Requirement already satisfied: tokenizers>=0.19.1 in c:\\users\\omen\\anaconda3\\lib\\site-packages (from langchain_huggingface->-r requirements.txt (line 7)) (0.21.0)\n",
            "Requirement already satisfied: huggingface-hub>=0.30.2 in c:\\users\\omen\\anaconda3\\lib\\site-packages (from langchain_huggingface->-r requirements.txt (line 7)) (0.33.0)\n",
            "Requirement already satisfied: cassandra-driver<4.0.0,>=3.28.0 in c:\\users\\omen\\anaconda3\\lib\\site-packages (from cassio->-r requirements.txt (line 8)) (3.29.2)\n",
            "Requirement already satisfied: aiohappyeyeballs>=2.3.0 in c:\\users\\omen\\anaconda3\\lib\\site-packages (from aiohttp<4.0.0,>=3.8.3->langchain_community->-r requirements.txt (line 3)) (2.4.0)\n",
            "Requirement already satisfied: aiosignal>=1.1.2 in c:\\users\\omen\\anaconda3\\lib\\site-packages (from aiohttp<4.0.0,>=3.8.3->langchain_community->-r requirements.txt (line 3)) (1.2.0)\n",
            "Requirement already satisfied: attrs>=17.3.0 in c:\\users\\omen\\appdata\\roaming\\python\\python312\\site-packages (from aiohttp<4.0.0,>=3.8.3->langchain_community->-r requirements.txt (line 3)) (23.2.0)\n",
            "Requirement already satisfied: frozenlist>=1.1.1 in c:\\users\\omen\\anaconda3\\lib\\site-packages (from aiohttp<4.0.0,>=3.8.3->langchain_community->-r requirements.txt (line 3)) (1.4.0)\n",
            "Requirement already satisfied: multidict<7.0,>=4.5 in c:\\users\\omen\\anaconda3\\lib\\site-packages (from aiohttp<4.0.0,>=3.8.3->langchain_community->-r requirements.txt (line 3)) (6.0.4)\n",
            "Requirement already satisfied: propcache>=0.2.0 in c:\\users\\omen\\anaconda3\\lib\\site-packages (from aiohttp<4.0.0,>=3.8.3->langchain_community->-r requirements.txt (line 3)) (0.3.1)\n",
            "Requirement already satisfied: yarl<2.0,>=1.17.0 in c:\\users\\omen\\anaconda3\\lib\\site-packages (from aiohttp<4.0.0,>=3.8.3->langchain_community->-r requirements.txt (line 3)) (1.18.3)\n",
            "Requirement already satisfied: jinja2 in c:\\users\\omen\\appdata\\roaming\\python\\python312\\site-packages (from altair<6,>=4.0->streamlit->-r requirements.txt (line 6)) (3.1.3)\n",
            "Requirement already satisfied: jsonschema>=3.0 in c:\\users\\omen\\appdata\\roaming\\python\\python312\\site-packages (from altair<6,>=4.0->streamlit->-r requirements.txt (line 6)) (4.21.1)\n",
            "Requirement already satisfied: toolz in c:\\users\\omen\\anaconda3\\lib\\site-packages (from altair<6,>=4.0->streamlit->-r requirements.txt (line 6)) (0.12.0)\n",
            "Requirement already satisfied: idna>=2.8 in c:\\users\\omen\\appdata\\roaming\\python\\python312\\site-packages (from anyio<5,>=3.5.0->groq->-r requirements.txt (line 5)) (3.6)\n",
            "Requirement already satisfied: geomet<0.3,>=0.1 in c:\\users\\omen\\anaconda3\\lib\\site-packages (from cassandra-driver<4.0.0,>=3.28.0->cassio->-r requirements.txt (line 8)) (0.2.1.post1)\n",
            "Requirement already satisfied: colorama in c:\\users\\omen\\appdata\\roaming\\python\\python312\\site-packages (from click<9,>=7.0->streamlit->-r requirements.txt (line 6)) (0.4.6)\n",
            "Requirement already satisfied: marshmallow<4.0.0,>=3.18.0 in c:\\users\\omen\\anaconda3\\lib\\site-packages (from dataclasses-json<0.7,>=0.5.7->langchain_community->-r requirements.txt (line 3)) (3.26.1)\n",
            "Requirement already satisfied: typing-inspect<1,>=0.4.0 in c:\\users\\omen\\anaconda3\\lib\\site-packages (from dataclasses-json<0.7,>=0.5.7->langchain_community->-r requirements.txt (line 3)) (0.9.0)\n",
            "Requirement already satisfied: gitdb<5,>=4.0.1 in c:\\users\\omen\\anaconda3\\lib\\site-packages (from gitpython!=3.1.19,<4,>=3.0.7->streamlit->-r requirements.txt (line 6)) (4.0.7)\n",
            "Requirement already satisfied: certifi in c:\\users\\omen\\appdata\\roaming\\python\\python312\\site-packages (from httpx<1,>=0.23.0->langsmith->-r requirements.txt (line 1)) (2024.2.2)\n",
            "Requirement already satisfied: httpcore==1.* in c:\\users\\omen\\appdata\\roaming\\python\\python312\\site-packages (from httpx<1,>=0.23.0->langsmith->-r requirements.txt (line 1)) (1.0.5)\n",
            "Requirement already satisfied: h11<0.15,>=0.13 in c:\\users\\omen\\appdata\\roaming\\python\\python312\\site-packages (from httpcore==1.*->httpx<1,>=0.23.0->langsmith->-r requirements.txt (line 1)) (0.14.0)\n",
            "Requirement already satisfied: filelock in c:\\users\\omen\\appdata\\roaming\\python\\python312\\site-packages (from huggingface-hub>=0.30.2->langchain_huggingface->-r requirements.txt (line 7)) (3.15.4)\n",
            "Requirement already satisfied: fsspec>=2023.5.0 in c:\\users\\omen\\appdata\\roaming\\python\\python312\\site-packages (from huggingface-hub>=0.30.2->langchain_huggingface->-r requirements.txt (line 7)) (2024.6.1)\n",
            "Requirement already satisfied: tqdm>=4.42.1 in c:\\users\\omen\\anaconda3\\lib\\site-packages (from huggingface-hub>=0.30.2->langchain_huggingface->-r requirements.txt (line 7)) (4.66.5)\n",
            "Requirement already satisfied: jsonpatch<2.0,>=1.33 in c:\\users\\omen\\anaconda3\\lib\\site-packages (from langchain-core<1.0.0,>=0.3.58->langchain->-r requirements.txt (line 2)) (1.33)\n",
            "Requirement already satisfied: python-dateutil>=2.8.2 in c:\\users\\omen\\appdata\\roaming\\python\\python312\\site-packages (from pandas<3,>=1.4.0->streamlit->-r requirements.txt (line 6)) (2.8.2)\n",
            "Requirement already satisfied: pytz>=2020.1 in c:\\users\\omen\\appdata\\roaming\\python\\python312\\site-packages (from pandas<3,>=1.4.0->streamlit->-r requirements.txt (line 6)) (2024.1)\n",
            "Requirement already satisfied: tzdata>=2022.7 in c:\\users\\omen\\appdata\\roaming\\python\\python312\\site-packages (from pandas<3,>=1.4.0->streamlit->-r requirements.txt (line 6)) (2024.1)\n",
            "Requirement already satisfied: annotated-types>=0.6.0 in c:\\users\\omen\\anaconda3\\lib\\site-packages (from pydantic<3.0.0,>=2.7.4->langsmith->-r requirements.txt (line 1)) (0.6.0)\n",
            "Requirement already satisfied: pydantic-core==2.33.2 in c:\\users\\omen\\anaconda3\\lib\\site-packages (from pydantic<3.0.0,>=2.7.4->langsmith->-r requirements.txt (line 1)) (2.33.2)\n",
            "Requirement already satisfied: typing-inspection>=0.4.0 in c:\\users\\omen\\anaconda3\\lib\\site-packages (from pydantic<3.0.0,>=2.7.4->langsmith->-r requirements.txt (line 1)) (0.4.0)\n",
            "Requirement already satisfied: python-dotenv>=0.21.0 in c:\\users\\omen\\anaconda3\\lib\\site-packages (from pydantic-settings<3.0.0,>=2.4.0->langchain_community->-r requirements.txt (line 3)) (0.21.0)\n",
            "Requirement already satisfied: charset-normalizer<4,>=2 in c:\\users\\omen\\appdata\\roaming\\python\\python312\\site-packages (from requests<3,>=2->langsmith->-r requirements.txt (line 1)) (3.3.2)\n",
            "Requirement already satisfied: urllib3<3,>=1.21.1 in c:\\users\\omen\\appdata\\roaming\\python\\python312\\site-packages (from requests<3,>=2->langsmith->-r requirements.txt (line 1)) (2.2.0)\n",
            "Requirement already satisfied: greenlet!=0.4.17 in c:\\users\\omen\\anaconda3\\lib\\site-packages (from SQLAlchemy<3,>=1.4->langchain->-r requirements.txt (line 2)) (3.0.1)\n",
            "Requirement already satisfied: six in c:\\users\\omen\\appdata\\roaming\\python\\python312\\site-packages (from geomet<0.3,>=0.1->cassandra-driver<4.0.0,>=3.28.0->cassio->-r requirements.txt (line 8)) (1.16.0)\n",
            "Requirement already satisfied: smmap<5,>=3.0.1 in c:\\users\\omen\\anaconda3\\lib\\site-packages (from gitdb<5,>=4.0.1->gitpython!=3.1.19,<4,>=3.0.7->streamlit->-r requirements.txt (line 6)) (4.0.0)\n",
            "Requirement already satisfied: MarkupSafe>=2.0 in c:\\users\\omen\\appdata\\roaming\\python\\python312\\site-packages (from jinja2->altair<6,>=4.0->streamlit->-r requirements.txt (line 6)) (2.1.5)\n",
            "Requirement already satisfied: jsonpointer>=1.9 in c:\\users\\omen\\appdata\\roaming\\python\\python312\\site-packages (from jsonpatch<2.0,>=1.33->langchain-core<1.0.0,>=0.3.58->langchain->-r requirements.txt (line 2)) (2.4)\n",
            "Requirement already satisfied: jsonschema-specifications>=2023.03.6 in c:\\users\\omen\\appdata\\roaming\\python\\python312\\site-packages (from jsonschema>=3.0->altair<6,>=4.0->streamlit->-r requirements.txt (line 6)) (2023.12.1)\n",
            "Requirement already satisfied: referencing>=0.28.4 in c:\\users\\omen\\appdata\\roaming\\python\\python312\\site-packages (from jsonschema>=3.0->altair<6,>=4.0->streamlit->-r requirements.txt (line 6)) (0.33.0)\n",
            "Requirement already satisfied: rpds-py>=0.7.1 in c:\\users\\omen\\appdata\\roaming\\python\\python312\\site-packages (from jsonschema>=3.0->altair<6,>=4.0->streamlit->-r requirements.txt (line 6)) (0.17.1)\n",
            "Requirement already satisfied: mypy-extensions>=0.3.0 in c:\\users\\omen\\anaconda3\\lib\\site-packages (from typing-inspect<1,>=0.4.0->dataclasses-json<0.7,>=0.5.7->langchain_community->-r requirements.txt (line 3)) (1.0.0)\n"
          ]
        },
        {
          "name": "stderr",
          "output_type": "stream",
          "text": [
            "WARNING: Ignoring invalid distribution ~orch (C:\\Users\\OMEN\\anaconda3\\Lib\\site-packages)\n",
            "WARNING: Ignoring invalid distribution ~orch (C:\\Users\\OMEN\\anaconda3\\Lib\\site-packages)\n",
            "WARNING: Ignoring invalid distribution ~orch (C:\\Users\\OMEN\\anaconda3\\Lib\\site-packages)\n"
          ]
        }
      ],
      "source": [
        "!pip install -U -r requirements.txt\n"
      ]
    },
    {
      "cell_type": "code",
      "execution_count": null,
      "metadata": {
        "colab": {
          "base_uri": "https://localhost:8080/"
        },
        "id": "f5f00dEPWAFO",
        "outputId": "9c383b43-124f-4730-812b-8ece9537412f"
      },
      "outputs": [],
      "source": [
        "import os\n",
        "import getpass\n",
        "\n",
        "os.environ[\"GROQ_API_KEY\"] = getpass.getpass(\"Enter your Groq API key: \")\n",
        "os.environ[\"HF_TOKEN\"] = getpass.getpass(\"Enter your HF API key: \")\n",
        "os.environ[\"LANGCHAIN_API_KEY\"] = getpass.getpass(\"Enter your Langchain API key: \")"
      ]
    },
    {
      "cell_type": "code",
      "execution_count": 6,
      "metadata": {
        "colab": {
          "base_uri": "https://localhost:8080/"
        },
        "id": "JsdBuDkvWAFP",
        "outputId": "44127d7b-0c9b-44e7-926b-ecc8a364a2ee"
      },
      "outputs": [
        {
          "ename": "ModuleNotFoundError",
          "evalue": "No module named 'langchain_groq'",
          "output_type": "error",
          "traceback": [
            "\u001b[1;31m---------------------------------------------------------------------------\u001b[0m",
            "\u001b[1;31mModuleNotFoundError\u001b[0m                       Traceback (most recent call last)",
            "Cell \u001b[1;32mIn[6], line 1\u001b[0m\n\u001b[1;32m----> 1\u001b[0m \u001b[38;5;28;01mfrom\u001b[39;00m\u001b[38;5;250m \u001b[39m\u001b[38;5;21;01mlangchain_groq\u001b[39;00m\u001b[38;5;250m \u001b[39m\u001b[38;5;28;01mimport\u001b[39;00m ChatGroq\n\u001b[0;32m      3\u001b[0m \u001b[38;5;66;03m# Replace this line\u001b[39;00m\n\u001b[0;32m      4\u001b[0m llm \u001b[38;5;241m=\u001b[39m ChatGroq(\n\u001b[0;32m      5\u001b[0m     model\u001b[38;5;241m=\u001b[39m\u001b[38;5;124m\"\u001b[39m\u001b[38;5;124mmixtral-8x7b-32768\u001b[39m\u001b[38;5;124m\"\u001b[39m,  \u001b[38;5;66;03m# Updated model\u001b[39;00m\n\u001b[0;32m      6\u001b[0m     temperature\u001b[38;5;241m=\u001b[39m\u001b[38;5;241m0\u001b[39m,\n\u001b[0;32m      7\u001b[0m     max_tokens\u001b[38;5;241m=\u001b[39m\u001b[38;5;241m4000\u001b[39m,\n\u001b[0;32m      8\u001b[0m     timeout\u001b[38;5;241m=\u001b[39m\u001b[38;5;28;01mNone\u001b[39;00m\n\u001b[0;32m      9\u001b[0m )\n",
            "\u001b[1;31mModuleNotFoundError\u001b[0m: No module named 'langchain_groq'"
          ]
        }
      ],
      "source": [
        "from langchain_groq import ChatGroq\n",
        "\n",
        "# Replace this line\n",
        "llm = ChatGroq(\n",
        "    model=\"mixtral-8x7b-32768\",  # Updated model\n",
        "    temperature=0,\n",
        "    max_tokens=4000,\n",
        "    timeout=None\n",
        ")\n",
        "llm"
      ]
    },
    {
      "cell_type": "code",
      "execution_count": 4,
      "metadata": {
        "colab": {
          "base_uri": "https://localhost:8080/"
        },
        "id": "j3V_kfpiWAFQ",
        "outputId": "d7fb75ff-70a5-467f-a612-f535556b6296"
      },
      "outputs": [
        {
          "ename": "ValueError",
          "evalue": "numpy.dtype size changed, may indicate binary incompatibility. Expected 96 from C header, got 88 from PyObject",
          "output_type": "error",
          "traceback": [
            "\u001b[1;31m---------------------------------------------------------------------------\u001b[0m",
            "\u001b[1;31mValueError\u001b[0m                                Traceback (most recent call last)",
            "Cell \u001b[1;32mIn[4], line 5\u001b[0m\n\u001b[0;32m      3\u001b[0m \u001b[38;5;28;01mimport\u001b[39;00m \u001b[38;5;21;01muuid\u001b[39;00m\n\u001b[0;32m      4\u001b[0m \u001b[38;5;28;01mimport\u001b[39;00m \u001b[38;5;21;01mcassio\u001b[39;00m  \u001b[38;5;66;03m# Using cassio for AstraDB connection\u001b[39;00m\n\u001b[1;32m----> 5\u001b[0m \u001b[38;5;28;01mimport\u001b[39;00m \u001b[38;5;21;01mpandas\u001b[39;00m \u001b[38;5;28;01mas\u001b[39;00m \u001b[38;5;21;01mpd\u001b[39;00m\n\u001b[0;32m      7\u001b[0m \u001b[38;5;28;01mfrom\u001b[39;00m \u001b[38;5;21;01mlangchain_huggingface\u001b[39;00m \u001b[38;5;28;01mimport\u001b[39;00m HuggingFaceEmbeddings\n\u001b[0;32m      9\u001b[0m \u001b[38;5;28;01mfrom\u001b[39;00m \u001b[38;5;21;01mlangchain_groq\u001b[39;00m \u001b[38;5;28;01mimport\u001b[39;00m ChatGroq\n",
            "File \u001b[1;32mc:\\Users\\OMEN\\anaconda3\\envs\\main\\Lib\\site-packages\\pandas\\__init__.py:22\u001b[0m\n\u001b[0;32m     19\u001b[0m \u001b[38;5;28;01mdel\u001b[39;00m _hard_dependencies, _dependency, _missing_dependencies\n\u001b[0;32m     21\u001b[0m \u001b[38;5;66;03m# numpy compat\u001b[39;00m\n\u001b[1;32m---> 22\u001b[0m \u001b[38;5;28;01mfrom\u001b[39;00m \u001b[38;5;21;01mpandas\u001b[39;00m\u001b[38;5;21;01m.\u001b[39;00m\u001b[38;5;21;01mcompat\u001b[39;00m \u001b[38;5;28;01mimport\u001b[39;00m is_numpy_dev \u001b[38;5;28;01mas\u001b[39;00m _is_numpy_dev  \u001b[38;5;66;03m# pyright: ignore # noqa:F401\u001b[39;00m\n\u001b[0;32m     24\u001b[0m \u001b[38;5;28;01mtry\u001b[39;00m:\n\u001b[0;32m     25\u001b[0m     \u001b[38;5;28;01mfrom\u001b[39;00m \u001b[38;5;21;01mpandas\u001b[39;00m\u001b[38;5;21;01m.\u001b[39;00m\u001b[38;5;21;01m_libs\u001b[39;00m \u001b[38;5;28;01mimport\u001b[39;00m hashtable \u001b[38;5;28;01mas\u001b[39;00m _hashtable, lib \u001b[38;5;28;01mas\u001b[39;00m _lib, tslib \u001b[38;5;28;01mas\u001b[39;00m _tslib\n",
            "File \u001b[1;32mc:\\Users\\OMEN\\anaconda3\\envs\\main\\Lib\\site-packages\\pandas\\compat\\__init__.py:18\u001b[0m\n\u001b[0;32m     15\u001b[0m \u001b[38;5;28;01mfrom\u001b[39;00m \u001b[38;5;21;01mtyping\u001b[39;00m \u001b[38;5;28;01mimport\u001b[39;00m TYPE_CHECKING\n\u001b[0;32m     17\u001b[0m \u001b[38;5;28;01mfrom\u001b[39;00m \u001b[38;5;21;01mpandas\u001b[39;00m\u001b[38;5;21;01m.\u001b[39;00m\u001b[38;5;21;01m_typing\u001b[39;00m \u001b[38;5;28;01mimport\u001b[39;00m F\n\u001b[1;32m---> 18\u001b[0m \u001b[38;5;28;01mfrom\u001b[39;00m \u001b[38;5;21;01mpandas\u001b[39;00m\u001b[38;5;21;01m.\u001b[39;00m\u001b[38;5;21;01mcompat\u001b[39;00m\u001b[38;5;21;01m.\u001b[39;00m\u001b[38;5;21;01mnumpy\u001b[39;00m \u001b[38;5;28;01mimport\u001b[39;00m (\n\u001b[0;32m     19\u001b[0m     is_numpy_dev,\n\u001b[0;32m     20\u001b[0m     np_version_under1p21,\n\u001b[0;32m     21\u001b[0m )\n\u001b[0;32m     22\u001b[0m \u001b[38;5;28;01mfrom\u001b[39;00m \u001b[38;5;21;01mpandas\u001b[39;00m\u001b[38;5;21;01m.\u001b[39;00m\u001b[38;5;21;01mcompat\u001b[39;00m\u001b[38;5;21;01m.\u001b[39;00m\u001b[38;5;21;01mpyarrow\u001b[39;00m \u001b[38;5;28;01mimport\u001b[39;00m (\n\u001b[0;32m     23\u001b[0m     pa_version_under1p01,\n\u001b[0;32m     24\u001b[0m     pa_version_under2p0,\n\u001b[1;32m   (...)\u001b[0m\n\u001b[0;32m     31\u001b[0m     pa_version_under9p0,\n\u001b[0;32m     32\u001b[0m )\n\u001b[0;32m     34\u001b[0m \u001b[38;5;28;01mif\u001b[39;00m TYPE_CHECKING:\n",
            "File \u001b[1;32mc:\\Users\\OMEN\\anaconda3\\envs\\main\\Lib\\site-packages\\pandas\\compat\\numpy\\__init__.py:4\u001b[0m\n\u001b[0;32m      1\u001b[0m \u001b[38;5;124;03m\"\"\" support numpy compatibility across versions \"\"\"\u001b[39;00m\n\u001b[0;32m      2\u001b[0m \u001b[38;5;28;01mimport\u001b[39;00m \u001b[38;5;21;01mnumpy\u001b[39;00m \u001b[38;5;28;01mas\u001b[39;00m \u001b[38;5;21;01mnp\u001b[39;00m\n\u001b[1;32m----> 4\u001b[0m \u001b[38;5;28;01mfrom\u001b[39;00m \u001b[38;5;21;01mpandas\u001b[39;00m\u001b[38;5;21;01m.\u001b[39;00m\u001b[38;5;21;01mutil\u001b[39;00m\u001b[38;5;21;01m.\u001b[39;00m\u001b[38;5;21;01mversion\u001b[39;00m \u001b[38;5;28;01mimport\u001b[39;00m Version\n\u001b[0;32m      6\u001b[0m \u001b[38;5;66;03m# numpy versioning\u001b[39;00m\n\u001b[0;32m      7\u001b[0m _np_version \u001b[38;5;241m=\u001b[39m np\u001b[38;5;241m.\u001b[39m__version__\n",
            "File \u001b[1;32mc:\\Users\\OMEN\\anaconda3\\envs\\main\\Lib\\site-packages\\pandas\\util\\__init__.py:2\u001b[0m\n\u001b[0;32m      1\u001b[0m \u001b[38;5;66;03m# pyright: reportUnusedImport = false\u001b[39;00m\n\u001b[1;32m----> 2\u001b[0m \u001b[38;5;28;01mfrom\u001b[39;00m \u001b[38;5;21;01mpandas\u001b[39;00m\u001b[38;5;21;01m.\u001b[39;00m\u001b[38;5;21;01mutil\u001b[39;00m\u001b[38;5;21;01m.\u001b[39;00m\u001b[38;5;21;01m_decorators\u001b[39;00m \u001b[38;5;28;01mimport\u001b[39;00m (  \u001b[38;5;66;03m# noqa:F401\u001b[39;00m\n\u001b[0;32m      3\u001b[0m     Appender,\n\u001b[0;32m      4\u001b[0m     Substitution,\n\u001b[0;32m      5\u001b[0m     cache_readonly,\n\u001b[0;32m      6\u001b[0m )\n\u001b[0;32m      8\u001b[0m \u001b[38;5;28;01mfrom\u001b[39;00m \u001b[38;5;21;01mpandas\u001b[39;00m\u001b[38;5;21;01m.\u001b[39;00m\u001b[38;5;21;01mcore\u001b[39;00m\u001b[38;5;21;01m.\u001b[39;00m\u001b[38;5;21;01mutil\u001b[39;00m\u001b[38;5;21;01m.\u001b[39;00m\u001b[38;5;21;01mhashing\u001b[39;00m \u001b[38;5;28;01mimport\u001b[39;00m (  \u001b[38;5;66;03m# noqa:F401\u001b[39;00m\n\u001b[0;32m      9\u001b[0m     hash_array,\n\u001b[0;32m     10\u001b[0m     hash_pandas_object,\n\u001b[0;32m     11\u001b[0m )\n\u001b[0;32m     14\u001b[0m \u001b[38;5;28;01mdef\u001b[39;00m \u001b[38;5;21m__getattr__\u001b[39m(name):\n",
            "File \u001b[1;32mc:\\Users\\OMEN\\anaconda3\\envs\\main\\Lib\\site-packages\\pandas\\util\\_decorators.py:14\u001b[0m\n\u001b[0;32m      6\u001b[0m \u001b[38;5;28;01mfrom\u001b[39;00m \u001b[38;5;21;01mtyping\u001b[39;00m \u001b[38;5;28;01mimport\u001b[39;00m (\n\u001b[0;32m      7\u001b[0m     Any,\n\u001b[0;32m      8\u001b[0m     Callable,\n\u001b[0;32m      9\u001b[0m     Mapping,\n\u001b[0;32m     10\u001b[0m     cast,\n\u001b[0;32m     11\u001b[0m )\n\u001b[0;32m     12\u001b[0m \u001b[38;5;28;01mimport\u001b[39;00m \u001b[38;5;21;01mwarnings\u001b[39;00m\n\u001b[1;32m---> 14\u001b[0m \u001b[38;5;28;01mfrom\u001b[39;00m \u001b[38;5;21;01mpandas\u001b[39;00m\u001b[38;5;21;01m.\u001b[39;00m\u001b[38;5;21;01m_libs\u001b[39;00m\u001b[38;5;21;01m.\u001b[39;00m\u001b[38;5;21;01mproperties\u001b[39;00m \u001b[38;5;28;01mimport\u001b[39;00m cache_readonly\n\u001b[0;32m     15\u001b[0m \u001b[38;5;28;01mfrom\u001b[39;00m \u001b[38;5;21;01mpandas\u001b[39;00m\u001b[38;5;21;01m.\u001b[39;00m\u001b[38;5;21;01m_typing\u001b[39;00m \u001b[38;5;28;01mimport\u001b[39;00m (\n\u001b[0;32m     16\u001b[0m     F,\n\u001b[0;32m     17\u001b[0m     T,\n\u001b[0;32m     18\u001b[0m )\n\u001b[0;32m     19\u001b[0m \u001b[38;5;28;01mfrom\u001b[39;00m \u001b[38;5;21;01mpandas\u001b[39;00m\u001b[38;5;21;01m.\u001b[39;00m\u001b[38;5;21;01mutil\u001b[39;00m\u001b[38;5;21;01m.\u001b[39;00m\u001b[38;5;21;01m_exceptions\u001b[39;00m \u001b[38;5;28;01mimport\u001b[39;00m find_stack_level\n",
            "File \u001b[1;32mc:\\Users\\OMEN\\anaconda3\\envs\\main\\Lib\\site-packages\\pandas\\_libs\\__init__.py:13\u001b[0m\n\u001b[0;32m      1\u001b[0m __all__ \u001b[38;5;241m=\u001b[39m [\n\u001b[0;32m      2\u001b[0m     \u001b[38;5;124m\"\u001b[39m\u001b[38;5;124mNaT\u001b[39m\u001b[38;5;124m\"\u001b[39m,\n\u001b[0;32m      3\u001b[0m     \u001b[38;5;124m\"\u001b[39m\u001b[38;5;124mNaTType\u001b[39m\u001b[38;5;124m\"\u001b[39m,\n\u001b[1;32m   (...)\u001b[0m\n\u001b[0;32m      9\u001b[0m     \u001b[38;5;124m\"\u001b[39m\u001b[38;5;124mInterval\u001b[39m\u001b[38;5;124m\"\u001b[39m,\n\u001b[0;32m     10\u001b[0m ]\n\u001b[1;32m---> 13\u001b[0m \u001b[38;5;28;01mfrom\u001b[39;00m \u001b[38;5;21;01mpandas\u001b[39;00m\u001b[38;5;21;01m.\u001b[39;00m\u001b[38;5;21;01m_libs\u001b[39;00m\u001b[38;5;21;01m.\u001b[39;00m\u001b[38;5;21;01minterval\u001b[39;00m \u001b[38;5;28;01mimport\u001b[39;00m Interval\n\u001b[0;32m     14\u001b[0m \u001b[38;5;28;01mfrom\u001b[39;00m \u001b[38;5;21;01mpandas\u001b[39;00m\u001b[38;5;21;01m.\u001b[39;00m\u001b[38;5;21;01m_libs\u001b[39;00m\u001b[38;5;21;01m.\u001b[39;00m\u001b[38;5;21;01mtslibs\u001b[39;00m \u001b[38;5;28;01mimport\u001b[39;00m (\n\u001b[0;32m     15\u001b[0m     NaT,\n\u001b[0;32m     16\u001b[0m     NaTType,\n\u001b[1;32m   (...)\u001b[0m\n\u001b[0;32m     21\u001b[0m     iNaT,\n\u001b[0;32m     22\u001b[0m )\n",
            "File \u001b[1;32mc:\\Users\\OMEN\\anaconda3\\envs\\main\\Lib\\site-packages\\pandas\\_libs\\interval.pyx:1\u001b[0m, in \u001b[0;36minit pandas._libs.interval\u001b[1;34m()\u001b[0m\n",
            "\u001b[1;31mValueError\u001b[0m: numpy.dtype size changed, may indicate binary incompatibility. Expected 96 from C header, got 88 from PyObject"
          ]
        }
      ],
      "source": [
        "import csv\n",
        "import json\n",
        "import uuid\n",
        "import cassio  # Using cassio for AstraDB connection\n",
        "import pandas as pd\n",
        "\n",
        "from langchain_huggingface import HuggingFaceEmbeddings\n",
        "\n",
        "from langchain_groq import ChatGroq\n",
        "\n",
        "# AstraDB connection details\n",
        "ASTRA_DB_APPLICATION_TOKEN =  getpass.getpass(\"Enter your Astra DB Token: \")\n",
        "ASTRA_DB_ID =  getpass.getpass(\"Enter your Astra DB ID: \")\n",
        "\n",
        "\n",
        "# Initialize AstraDB connection with Cassio\n",
        "cassio.init(\n",
        "    token=ASTRA_DB_APPLICATION_TOKEN,\n",
        "    database_id=ASTRA_DB_ID\n",
        ")\n",
        "\n",
        "# Embeddings setup\n",
        "embeddings = HuggingFaceEmbeddings(\n",
        "    model_name=\"sentence-transformers/all-MiniLM-L6-v2\"\n",
        ")\n",
        "\n",
        "# ChatGroq LLM setup\n",
        "# Replace this line\n",
        "llm = ChatGroq(\n",
        "    model=\"mixtral-8x7b-32768\",  # Updated model\n",
        "    temperature=0,\n",
        "    max_tokens=4000,\n",
        "    timeout=None\n",
        ")\n"
      ]
    },
    {
      "cell_type": "markdown",
      "metadata": {
        "id": "5-CrDq1pWAFR"
      },
      "source": [
        "Entering data in the Vector DB for RAG"
      ]
    },
    {
      "cell_type": "code",
      "execution_count": 7,
      "metadata": {
        "colab": {
          "base_uri": "https://localhost:8080/"
        },
        "id": "w1Y7VzHaWAFT",
        "outputId": "20b1fb98-37bf-43d1-d784-4b81521d8628"
      },
      "outputs": [
        {
          "name": "stdout",
          "output_type": "stream",
          "text": [
            "Inserted 5641 documents.\n",
            "Vector index created successfully.\n"
          ]
        }
      ],
      "source": [
        "from langchain.vectorstores.cassandra import Cassandra\n",
        "from langchain.indexes.vectorstore import VectorStoreIndexWrapper\n",
        "from langchain_huggingface import HuggingFaceEmbeddings\n",
        "from langchain.schema import Document\n",
        "import cassio\n",
        "\n",
        "# Create Cassandra vector store\n",
        "astra_vector_store = Cassandra(\n",
        "    embedding=embeddings,\n",
        "    session=None,\n",
        "    table_name=\"Projekt\",\n",
        "    keyspace=None\n",
        ")\n",
        "\n",
        "def process_csv(file_path, context_column, response_column):\n",
        "    df = pd.read_csv(file_path)\n",
        "    docs = []\n",
        "    for _, row in df.iterrows():\n",
        "        content = f\"Context: {row[context_column]}\\nResponse: {row[response_column]}\"\n",
        "        metadata = {\"source\": file_path, \"type\": \"csv\"}\n",
        "        docs.append(Document(page_content=content, metadata=metadata))\n",
        "    return docs\n",
        "\n",
        "def process_json(file_path):\n",
        "    with open(file_path, 'r') as f:\n",
        "        data = json.load(f)\n",
        "    docs = []\n",
        "    for item in data:\n",
        "        content = f\"Question: {item['question']}\\nAnswer: {item['answer']}\\nTopic: {item['topic']}\"\n",
        "        metadata = {\"source\": file_path, \"type\": \"json\", \"topic\": item['topic']}\n",
        "        docs.append(Document(page_content=content, metadata=metadata))\n",
        "    return docs\n",
        "\n",
        "# Process and add documents\n",
        "docs = []\n",
        "docs.extend(process_csv('/content/amod.csv', 'Context', 'Response'))\n",
        "docs.extend(process_json('/content/cleaned_chats.json'))\n",
        "\n",
        "# Add documents to the vector store\n",
        "astra_vector_store.add_documents(docs)\n",
        "print(f\"Inserted {len(docs)} documents.\")\n",
        "\n",
        "# Create a vector store index wrapper\n",
        "astra_vector_index = VectorStoreIndexWrapper(vectorstore=astra_vector_store)\n",
        "\n",
        "print(\"Vector index created successfully.\")"
      ]
    },
    {
      "cell_type": "code",
      "execution_count": 17,
      "metadata": {
        "colab": {
          "base_uri": "https://localhost:8080/",
          "height": 89
        },
        "id": "CS8u8c4fb5Rc",
        "outputId": "305c9e2a-446d-4d2e-f9d6-b72e3fc26208"
      },
      "outputs": [
        {
          "name": "stdout",
          "output_type": "stream",
          "text": [
            "Hi, how are you feeling today?, You can type 'exit' or 'thankyou' to end the conversation.\n",
            "\n",
            "You: hi i am depressed \n"
          ]
        },
        {
          "data": {
            "text/html": [
              "\n",
              "    \n",
              "        Bot - 2025-02-13 18:12:11\n",
              "        Goodbye! Have a great day!\n",
              "    \n",
              "    "
            ],
            "text/plain": [
              "<IPython.core.display.HTML object>"
            ]
          },
          "metadata": {},
          "output_type": "display_data"
        }
      ],
      "source": [
        "\n",
        "import datetime\n",
        "import warnings\n",
        "from IPython.display import display, HTML\n",
        "from langchain.memory import ConversationBufferMemory\n",
        "from langchain.chains import ConversationalRetrievalChain\n",
        "import logging\n",
        "\n",
        "\n",
        "# Filter out specific warnings\n",
        "warnings.filterwarnings(\"ignore\", category=DeprecationWarning)\n",
        "warnings.filterwarnings(\"ignore\", category=UserWarning)\n",
        "logging.getLogger('cassandra.protocol').setLevel(logging.ERROR)\n",
        "\n",
        "\n",
        "# Memory setup\n",
        "memory = ConversationBufferMemory(memory_key=\"chat_history\", return_messages=True)\n",
        "\n",
        "# Create the Conversational Retrieval Chain (RAG setup)\n",
        "qa_chain = ConversationalRetrievalChain.from_llm(\n",
        "    llm=llm,\n",
        "    retriever=astra_vector_store.as_retriever(search_kwargs={\"k\": 3}),\n",
        "    memory=memory\n",
        ")\n",
        "\n",
        "def format_message(role, content):\n",
        "    \"\"\"Formats the message with HTML for better display in Colab.\"\"\"\n",
        "    color = \"#4a76a8\" if role == \"Bot\" else \"#6c757d\"\n",
        "    timestamp = datetime.datetime.now().strftime(\"%Y-%m-%d %H:%M:%S\")\n",
        "    return f\"\"\"\n",
        "\n",
        "        {role} - {timestamp}\n",
        "        {content}\n",
        "\n",
        "    \"\"\"\n",
        "\n",
        "def chat_with_rag():\n",
        "    print(\"Hi, how are you feeling today?, You can type 'exit' or 'thankyou' to end the conversation.\")\n",
        "\n",
        "    while True:\n",
        "        user_input = input(\"\\nYou: \")\n",
        "\n",
        "        if user_input.lower() == 'exit' or 'thankyou':\n",
        "            display(HTML(format_message(\"Bot\", \"Goodbye! Have a great day!\")))\n",
        "            break\n",
        "\n",
        "        if not user_input.strip():\n",
        "            display(HTML(format_message(\"Bot\", \"Please enter a valid question or command.\")))\n",
        "            continue\n",
        "\n",
        "        try:\n",
        "            result = qa_chain.invoke({\"question\": user_input})\n",
        "            # display(HTML(format_message(\"You\", user_input)))\n",
        "            display(HTML(format_message(\"Bot\", result['answer'])))\n",
        "        except Exception as e:\n",
        "            error_message = f\"Oops! Something went wrong. Please try again.\\nError: {str(e)}\"\n",
        "            display(HTML(format_message(\"Bot\", error_message)))\n",
        "\n",
        "if __name__ == \"__main__\":\n",
        "    chat_with_rag()"
      ]
    },
    {
      "cell_type": "code",
      "execution_count": 21,
      "metadata": {
        "colab": {
          "base_uri": "https://localhost:8080/",
          "height": 539
        },
        "id": "ZTfMyDHKEiY5",
        "outputId": "ccfcea92-d9d8-4feb-9c58-fdc794355350"
      },
      "outputs": [
        {
          "name": "stdout",
          "output_type": "stream",
          "text": [
            "Hi, how are you feeling today?, You can type 'exit' or 'thankyou' to end the conversation.\n"
          ]
        },
        {
          "data": {
            "text/html": [
              "\n",
              "    <div style=\"margin-bottom: 10px; padding: 10px; border-radius: 5px; background-color: #4a76a8; color: white;\">\n",
              "        <strong>Bot</strong> - 2025-02-13 18:17:22<br>\n",
              "        The feeling of worthlessness can be caused by a variety of factors, including internal comparisons to others and the belief that you need to be someone other than who you are. It's important to remember that no one is worthless and that you have inherent value. One way to start changing these feelings is to focus on finding your worth and not letting negative thoughts talk you out of the good you find in yourself. This can be as simple as recognizing and appreciating small accomplishments, such as getting out of bed and making a phone call or a joke. It's also important to be kind to yourself and not let setbacks, like a disagreement with your boss, define your self-worth. It may be helpful to seek support from a mental health professional to work through these feelings and develop strategies for building a more positive self-image.\n",
              "    </div>\n",
              "    "
            ],
            "text/plain": [
              "<IPython.core.display.HTML object>"
            ]
          },
          "metadata": {},
          "output_type": "display_data"
        },
        {
          "ename": "KeyboardInterrupt",
          "evalue": "Interrupted by user",
          "output_type": "error",
          "traceback": [
            "\u001b[0;31m---------------------------------------------------------------------------\u001b[0m",
            "\u001b[0;31mKeyboardInterrupt\u001b[0m                         Traceback (most recent call last)",
            "\u001b[0;32m<ipython-input-21-b608bebc9f10>\u001b[0m in \u001b[0;36m<cell line: 0>\u001b[0;34m()\u001b[0m\n\u001b[1;32m     51\u001b[0m \u001b[0;34m\u001b[0m\u001b[0m\n\u001b[1;32m     52\u001b[0m \u001b[0;32mif\u001b[0m \u001b[0m__name__\u001b[0m \u001b[0;34m==\u001b[0m \u001b[0;34m\"__main__\"\u001b[0m\u001b[0;34m:\u001b[0m\u001b[0;34m\u001b[0m\u001b[0;34m\u001b[0m\u001b[0m\n\u001b[0;32m---> 53\u001b[0;31m     \u001b[0mchat_with_rag\u001b[0m\u001b[0;34m(\u001b[0m\u001b[0;34m)\u001b[0m\u001b[0;34m\u001b[0m\u001b[0;34m\u001b[0m\u001b[0m\n\u001b[0m",
            "\u001b[0;32m<ipython-input-21-b608bebc9f10>\u001b[0m in \u001b[0;36mchat_with_rag\u001b[0;34m()\u001b[0m\n\u001b[1;32m     33\u001b[0m \u001b[0;34m\u001b[0m\u001b[0m\n\u001b[1;32m     34\u001b[0m     \u001b[0;32mwhile\u001b[0m \u001b[0;32mTrue\u001b[0m\u001b[0;34m:\u001b[0m\u001b[0;34m\u001b[0m\u001b[0;34m\u001b[0m\u001b[0m\n\u001b[0;32m---> 35\u001b[0;31m         \u001b[0muser_input\u001b[0m \u001b[0;34m=\u001b[0m \u001b[0minput\u001b[0m\u001b[0;34m(\u001b[0m\u001b[0;34m\"\\nYou: \"\u001b[0m\u001b[0;34m)\u001b[0m\u001b[0;34m.\u001b[0m\u001b[0mstrip\u001b[0m\u001b[0;34m(\u001b[0m\u001b[0;34m)\u001b[0m\u001b[0;34m\u001b[0m\u001b[0;34m\u001b[0m\u001b[0m\n\u001b[0m\u001b[1;32m     36\u001b[0m \u001b[0;34m\u001b[0m\u001b[0m\n\u001b[1;32m     37\u001b[0m         \u001b[0;32mif\u001b[0m \u001b[0muser_input\u001b[0m\u001b[0;34m.\u001b[0m\u001b[0mlower\u001b[0m\u001b[0;34m(\u001b[0m\u001b[0;34m)\u001b[0m \u001b[0;32min\u001b[0m \u001b[0;34m[\u001b[0m\u001b[0;34m'exit'\u001b[0m\u001b[0;34m,\u001b[0m \u001b[0;34m'thankyou'\u001b[0m\u001b[0;34m]\u001b[0m\u001b[0;34m:\u001b[0m\u001b[0;34m\u001b[0m\u001b[0;34m\u001b[0m\u001b[0m\n",
            "\u001b[0;32m/usr/local/lib/python3.11/dist-packages/ipykernel/kernelbase.py\u001b[0m in \u001b[0;36mraw_input\u001b[0;34m(self, prompt)\u001b[0m\n\u001b[1;32m    849\u001b[0m                 \u001b[0;34m\"raw_input was called, but this frontend does not support input requests.\"\u001b[0m\u001b[0;34m\u001b[0m\u001b[0;34m\u001b[0m\u001b[0m\n\u001b[1;32m    850\u001b[0m             )\n\u001b[0;32m--> 851\u001b[0;31m         return self._input_request(str(prompt),\n\u001b[0m\u001b[1;32m    852\u001b[0m             \u001b[0mself\u001b[0m\u001b[0;34m.\u001b[0m\u001b[0m_parent_ident\u001b[0m\u001b[0;34m,\u001b[0m\u001b[0;34m\u001b[0m\u001b[0;34m\u001b[0m\u001b[0m\n\u001b[1;32m    853\u001b[0m             \u001b[0mself\u001b[0m\u001b[0;34m.\u001b[0m\u001b[0m_parent_header\u001b[0m\u001b[0;34m,\u001b[0m\u001b[0;34m\u001b[0m\u001b[0;34m\u001b[0m\u001b[0m\n",
            "\u001b[0;32m/usr/local/lib/python3.11/dist-packages/ipykernel/kernelbase.py\u001b[0m in \u001b[0;36m_input_request\u001b[0;34m(self, prompt, ident, parent, password)\u001b[0m\n\u001b[1;32m    893\u001b[0m             \u001b[0;32mexcept\u001b[0m \u001b[0mKeyboardInterrupt\u001b[0m\u001b[0;34m:\u001b[0m\u001b[0;34m\u001b[0m\u001b[0;34m\u001b[0m\u001b[0m\n\u001b[1;32m    894\u001b[0m                 \u001b[0;31m# re-raise KeyboardInterrupt, to truncate traceback\u001b[0m\u001b[0;34m\u001b[0m\u001b[0;34m\u001b[0m\u001b[0m\n\u001b[0;32m--> 895\u001b[0;31m                 \u001b[0;32mraise\u001b[0m \u001b[0mKeyboardInterrupt\u001b[0m\u001b[0;34m(\u001b[0m\u001b[0;34m\"Interrupted by user\"\u001b[0m\u001b[0;34m)\u001b[0m \u001b[0;32mfrom\u001b[0m \u001b[0;32mNone\u001b[0m\u001b[0;34m\u001b[0m\u001b[0;34m\u001b[0m\u001b[0m\n\u001b[0m\u001b[1;32m    896\u001b[0m             \u001b[0;32mexcept\u001b[0m \u001b[0mException\u001b[0m \u001b[0;32mas\u001b[0m \u001b[0me\u001b[0m\u001b[0;34m:\u001b[0m\u001b[0;34m\u001b[0m\u001b[0;34m\u001b[0m\u001b[0m\n\u001b[1;32m    897\u001b[0m                 \u001b[0mself\u001b[0m\u001b[0;34m.\u001b[0m\u001b[0mlog\u001b[0m\u001b[0;34m.\u001b[0m\u001b[0mwarning\u001b[0m\u001b[0;34m(\u001b[0m\u001b[0;34m\"Invalid Message:\"\u001b[0m\u001b[0;34m,\u001b[0m \u001b[0mexc_info\u001b[0m\u001b[0;34m=\u001b[0m\u001b[0;32mTrue\u001b[0m\u001b[0;34m)\u001b[0m\u001b[0;34m\u001b[0m\u001b[0;34m\u001b[0m\u001b[0m\n",
            "\u001b[0;31mKeyboardInterrupt\u001b[0m: Interrupted by user"
          ]
        }
      ],
      "source": [
        "import datetime\n",
        "import warnings\n",
        "from IPython.display import display, HTML\n",
        "from langchain.memory import ConversationBufferMemory\n",
        "from langchain.chains import ConversationalRetrievalChain\n",
        "import logging\n",
        "\n",
        "\n",
        "def format_message(role, content):\n",
        "    \"\"\"Formats the message with HTML for better display in Colab.\"\"\"\n",
        "    color = \"#4a76a8\" if role == \"Bot\" else \"#6c757d\"\n",
        "    timestamp = datetime.datetime.now().strftime(\"%Y-%m-%d %H:%M:%S\")\n",
        "    return f\"\"\"\n",
        "    <div style=\"margin-bottom: 10px; padding: 10px; border-radius: 5px; background-color: {color}; color: white;\">\n",
        "        <strong>{role}</strong> - {timestamp}<br>\n",
        "        {content}\n",
        "    </div>\n",
        "    \"\"\"\n",
        "\n",
        "\n",
        "def chat_with_rag():\n",
        "    # Memory setup (moved inside the function to ensure it's defined)\n",
        "    memory = ConversationBufferMemory(memory_key=\"chat_history\", return_messages=True)\n",
        "\n",
        "    # Create the Conversational Retrieval Chain (RAG setup) (moved inside the function)\n",
        "    qa_chain = ConversationalRetrievalChain.from_llm(\n",
        "        llm=llm,\n",
        "        retriever=astra_vector_store.as_retriever(search_kwargs={\"k\": 3}),\n",
        "        memory=memory\n",
        "    )\n",
        "\n",
        "    print(\"Hi, how are you feeling today?, You can type 'exit' or 'thankyou' to end the conversation.\")\n",
        "\n",
        "    while True:\n",
        "        user_input = input(\"\\nYou: \").strip()\n",
        "\n",
        "        if user_input.lower() in ['exit', 'thankyou']:\n",
        "            display(HTML(format_message(\"Bot\", \"Goodbye! Have a great day!\")))\n",
        "            break\n",
        "\n",
        "        if not user_input:\n",
        "            display(HTML(format_message(\"Bot\", \"Please enter a valid question or command.\")))\n",
        "            continue\n",
        "\n",
        "        try:\n",
        "            result = qa_chain.invoke({\"question\": user_input})\n",
        "            display(HTML(format_message(\"Bot\", result['answer'])))\n",
        "        except Exception as e:\n",
        "            error_message = f\"Oops! Something went wrong. Please try again.\\nError: {str(e)}\"\n",
        "            display(HTML(format_message(\"Bot\", error_message)))\n",
        "\n",
        "if __name__ == \"__main__\":\n",
        "    chat_with_rag()\n"
      ]
    },
    {
      "cell_type": "code",
      "execution_count": 8,
      "metadata": {
        "colab": {
          "base_uri": "https://localhost:8080/"
        },
        "id": "jaU2xpwSxT89",
        "outputId": "a97ade39-6fba-40b2-bd48-10949026dc6f"
      },
      "outputs": [
        {
          "name": "stdout",
          "output_type": "stream",
          "text": [
            "Requirement already satisfied: gradio in /usr/local/lib/python3.11/dist-packages (5.16.0)\n",
            "Requirement already satisfied: aiofiles<24.0,>=22.0 in /usr/local/lib/python3.11/dist-packages (from gradio) (23.2.1)\n",
            "Requirement already satisfied: anyio<5.0,>=3.0 in /usr/local/lib/python3.11/dist-packages (from gradio) (3.7.1)\n",
            "Requirement already satisfied: fastapi<1.0,>=0.115.2 in /usr/local/lib/python3.11/dist-packages (from gradio) (0.115.8)\n",
            "Requirement already satisfied: ffmpy in /usr/local/lib/python3.11/dist-packages (from gradio) (0.5.0)\n",
            "Requirement already satisfied: gradio-client==1.7.0 in /usr/local/lib/python3.11/dist-packages (from gradio) (1.7.0)\n",
            "Requirement already satisfied: httpx>=0.24.1 in /usr/local/lib/python3.11/dist-packages (from gradio) (0.28.1)\n",
            "Requirement already satisfied: huggingface-hub>=0.28.1 in /usr/local/lib/python3.11/dist-packages (from gradio) (0.28.1)\n",
            "Requirement already satisfied: jinja2<4.0 in /usr/local/lib/python3.11/dist-packages (from gradio) (3.1.5)\n",
            "Requirement already satisfied: markupsafe~=2.0 in /usr/local/lib/python3.11/dist-packages (from gradio) (2.1.5)\n",
            "Requirement already satisfied: numpy<3.0,>=1.0 in /usr/local/lib/python3.11/dist-packages (from gradio) (1.26.4)\n",
            "Requirement already satisfied: orjson~=3.0 in /usr/local/lib/python3.11/dist-packages (from gradio) (3.10.15)\n",
            "Requirement already satisfied: packaging in /usr/local/lib/python3.11/dist-packages (from gradio) (24.2)\n",
            "Requirement already satisfied: pandas<3.0,>=1.0 in /usr/local/lib/python3.11/dist-packages (from gradio) (2.2.2)\n",
            "Requirement already satisfied: pillow<12.0,>=8.0 in /usr/local/lib/python3.11/dist-packages (from gradio) (11.1.0)\n",
            "Requirement already satisfied: pydantic>=2.0 in /usr/local/lib/python3.11/dist-packages (from gradio) (2.10.6)\n",
            "Requirement already satisfied: pydub in /usr/local/lib/python3.11/dist-packages (from gradio) (0.25.1)\n",
            "Requirement already satisfied: python-multipart>=0.0.18 in /usr/local/lib/python3.11/dist-packages (from gradio) (0.0.20)\n",
            "Requirement already satisfied: pyyaml<7.0,>=5.0 in /usr/local/lib/python3.11/dist-packages (from gradio) (6.0.2)\n",
            "Requirement already satisfied: ruff>=0.9.3 in /usr/local/lib/python3.11/dist-packages (from gradio) (0.9.6)\n",
            "Requirement already satisfied: safehttpx<0.2.0,>=0.1.6 in /usr/local/lib/python3.11/dist-packages (from gradio) (0.1.6)\n",
            "Requirement already satisfied: semantic-version~=2.0 in /usr/local/lib/python3.11/dist-packages (from gradio) (2.10.0)\n",
            "Requirement already satisfied: starlette<1.0,>=0.40.0 in /usr/local/lib/python3.11/dist-packages (from gradio) (0.45.3)\n",
            "Requirement already satisfied: tomlkit<0.14.0,>=0.12.0 in /usr/local/lib/python3.11/dist-packages (from gradio) (0.13.2)\n",
            "Requirement already satisfied: typer<1.0,>=0.12 in /usr/local/lib/python3.11/dist-packages (from gradio) (0.15.1)\n",
            "Requirement already satisfied: typing-extensions~=4.0 in /usr/local/lib/python3.11/dist-packages (from gradio) (4.12.2)\n",
            "Requirement already satisfied: uvicorn>=0.14.0 in /usr/local/lib/python3.11/dist-packages (from gradio) (0.34.0)\n",
            "Requirement already satisfied: fsspec in /usr/local/lib/python3.11/dist-packages (from gradio-client==1.7.0->gradio) (2024.10.0)\n",
            "Requirement already satisfied: websockets<15.0,>=10.0 in /usr/local/lib/python3.11/dist-packages (from gradio-client==1.7.0->gradio) (14.2)\n",
            "Requirement already satisfied: idna>=2.8 in /usr/local/lib/python3.11/dist-packages (from anyio<5.0,>=3.0->gradio) (3.10)\n",
            "Requirement already satisfied: sniffio>=1.1 in /usr/local/lib/python3.11/dist-packages (from anyio<5.0,>=3.0->gradio) (1.3.1)\n",
            "Requirement already satisfied: certifi in /usr/local/lib/python3.11/dist-packages (from httpx>=0.24.1->gradio) (2025.1.31)\n",
            "Requirement already satisfied: httpcore==1.* in /usr/local/lib/python3.11/dist-packages (from httpx>=0.24.1->gradio) (1.0.7)\n",
            "Requirement already satisfied: h11<0.15,>=0.13 in /usr/local/lib/python3.11/dist-packages (from httpcore==1.*->httpx>=0.24.1->gradio) (0.14.0)\n",
            "Requirement already satisfied: filelock in /usr/local/lib/python3.11/dist-packages (from huggingface-hub>=0.28.1->gradio) (3.17.0)\n",
            "Requirement already satisfied: requests in /usr/local/lib/python3.11/dist-packages (from huggingface-hub>=0.28.1->gradio) (2.32.3)\n",
            "Requirement already satisfied: tqdm>=4.42.1 in /usr/local/lib/python3.11/dist-packages (from huggingface-hub>=0.28.1->gradio) (4.67.1)\n",
            "Requirement already satisfied: python-dateutil>=2.8.2 in /usr/local/lib/python3.11/dist-packages (from pandas<3.0,>=1.0->gradio) (2.8.2)\n",
            "Requirement already satisfied: pytz>=2020.1 in /usr/local/lib/python3.11/dist-packages (from pandas<3.0,>=1.0->gradio) (2025.1)\n",
            "Requirement already satisfied: tzdata>=2022.7 in /usr/local/lib/python3.11/dist-packages (from pandas<3.0,>=1.0->gradio) (2025.1)\n",
            "Requirement already satisfied: annotated-types>=0.6.0 in /usr/local/lib/python3.11/dist-packages (from pydantic>=2.0->gradio) (0.7.0)\n",
            "Requirement already satisfied: pydantic-core==2.27.2 in /usr/local/lib/python3.11/dist-packages (from pydantic>=2.0->gradio) (2.27.2)\n",
            "Requirement already satisfied: click>=8.0.0 in /usr/local/lib/python3.11/dist-packages (from typer<1.0,>=0.12->gradio) (8.1.8)\n",
            "Requirement already satisfied: shellingham>=1.3.0 in /usr/local/lib/python3.11/dist-packages (from typer<1.0,>=0.12->gradio) (1.5.4)\n",
            "Requirement already satisfied: rich>=10.11.0 in /usr/local/lib/python3.11/dist-packages (from typer<1.0,>=0.12->gradio) (13.9.4)\n",
            "Requirement already satisfied: six>=1.5 in /usr/local/lib/python3.11/dist-packages (from python-dateutil>=2.8.2->pandas<3.0,>=1.0->gradio) (1.17.0)\n",
            "Requirement already satisfied: markdown-it-py>=2.2.0 in /usr/local/lib/python3.11/dist-packages (from rich>=10.11.0->typer<1.0,>=0.12->gradio) (3.0.0)\n",
            "Requirement already satisfied: pygments<3.0.0,>=2.13.0 in /usr/local/lib/python3.11/dist-packages (from rich>=10.11.0->typer<1.0,>=0.12->gradio) (2.18.0)\n",
            "Requirement already satisfied: charset-normalizer<4,>=2 in /usr/local/lib/python3.11/dist-packages (from requests->huggingface-hub>=0.28.1->gradio) (3.4.1)\n",
            "Requirement already satisfied: urllib3<3,>=1.21.1 in /usr/local/lib/python3.11/dist-packages (from requests->huggingface-hub>=0.28.1->gradio) (2.3.0)\n",
            "Requirement already satisfied: mdurl~=0.1 in /usr/local/lib/python3.11/dist-packages (from markdown-it-py>=2.2.0->rich>=10.11.0->typer<1.0,>=0.12->gradio) (0.1.2)\n"
          ]
        }
      ],
      "source": [
        "# prompt: installl gradio\n",
        "\n",
        "!pip install gradio\n"
      ]
    },
    {
      "cell_type": "code",
      "execution_count": 9,
      "metadata": {
        "colab": {
          "base_uri": "https://localhost:8080/",
          "height": 650
        },
        "id": "fn-rFN1gNY1o",
        "outputId": "f8ad455b-f023-42e1-b571-f82dcfc303cd"
      },
      "outputs": [
        {
          "name": "stdout",
          "output_type": "stream",
          "text": [
            "Running Gradio in a Colab notebook requires sharing enabled. Automatically setting `share=True` (you can turn this off by setting `share=False` in `launch()` explicitly).\n",
            "\n",
            "Colab notebook detected. To show errors in colab notebook, set debug=True in launch()\n",
            "* Running on public URL: https://c39150462a2f679ebc.gradio.live\n",
            "\n",
            "This share link expires in 72 hours. For free permanent hosting and GPU upgrades, run `gradio deploy` from the terminal in the working directory to deploy to Hugging Face Spaces (https://huggingface.co/spaces)\n"
          ]
        },
        {
          "data": {
            "text/html": [
              "<div><iframe src=\"https://c39150462a2f679ebc.gradio.live\" width=\"100%\" height=\"500\" allow=\"autoplay; camera; microphone; clipboard-read; clipboard-write;\" frameborder=\"0\" allowfullscreen></iframe></div>"
            ],
            "text/plain": [
              "<IPython.core.display.HTML object>"
            ]
          },
          "metadata": {},
          "output_type": "display_data"
        }
      ],
      "source": [
        "import datetime\n",
        "import warnings\n",
        "import logging\n",
        "import gradio as gr\n",
        "from langchain.memory import ConversationBufferMemory\n",
        "from langchain.chains import ConversationalRetrievalChain\n",
        "from IPython.display import display, HTML\n",
        "\n",
        "# Suppress warnings\n",
        "warnings.filterwarnings(\"ignore\", category=DeprecationWarning)\n",
        "warnings.filterwarnings(\"ignore\", category=UserWarning)\n",
        "logging.getLogger('cassandra.protocol').setLevel(logging.ERROR)\n",
        "\n",
        "# Memory setup\n",
        "memory = ConversationBufferMemory(memory_key=\"chat_history\", return_messages=True)\n",
        "\n",
        "# Create the Conversational Retrieval Chain (RAG setup)\n",
        "qa_chain = ConversationalRetrievalChain.from_llm(\n",
        "    llm=llm,\n",
        "    retriever=astra_vector_store.as_retriever(search_kwargs={\"k\": 3}),\n",
        "    memory=memory\n",
        ")\n",
        "\n",
        "def chatbot_response(user_input):\n",
        "    \"\"\"Handles chatbot response and returns formatted output.\"\"\"\n",
        "    if user_input.lower() in ['exit', 'thankyou']:\n",
        "        return \"Goodbye! Have a great day! 😊\"\n",
        "\n",
        "    if not user_input.strip():\n",
        "        return \"Please enter a valid question or command.\"\n",
        "\n",
        "    try:\n",
        "        result = qa_chain.invoke({\"question\": user_input})\n",
        "        return result['answer']\n",
        "    except Exception as e:\n",
        "        return f\"Oops! Something went wrong. Please try again.\\nError: {str(e)}\"\n",
        "\n",
        "# Gradio UI\n",
        "with gr.Blocks() as demo:\n",
        "    gr.Markdown(\"## 🤖 Mental Health Chatbot\")\n",
        "    chatbot = gr.Chatbot()\n",
        "    user_input = gr.Textbox(label=\"Type your message here...\")\n",
        "\n",
        "    def update_chat(message, history):\n",
        "        response = chatbot_response(message)\n",
        "        history.append((message, response))\n",
        "        return \"\", history\n",
        "\n",
        "    user_input.submit(update_chat, [user_input, chatbot], [user_input, chatbot])\n",
        "\n",
        "# Launch the interactive UI\n",
        "if __name__ == \"__main__\":\n",
        "    demo.launch()\n"
      ]
    },
    {
      "cell_type": "code",
      "execution_count": null,
      "metadata": {
        "id": "wZXLRhaNx23O"
      },
      "outputs": [],
      "source": []
    }
  ],
  "metadata": {
    "accelerator": "GPU",
    "colab": {
      "gpuType": "T4",
      "provenance": []
    },
    "kernelspec": {
      "display_name": "Python 3",
      "language": "python",
      "name": "python3"
    },
    "language_info": {
      "codemirror_mode": {
        "name": "ipython",
        "version": 3
      },
      "file_extension": ".py",
      "mimetype": "text/x-python",
      "name": "python",
      "nbconvert_exporter": "python",
      "pygments_lexer": "ipython3",
      "version": "3.9.5"
    }
  },
  "nbformat": 4,
  "nbformat_minor": 0
}
